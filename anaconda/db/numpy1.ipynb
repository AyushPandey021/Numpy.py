{
 "cells": [
  {
   "cell_type": "code",
   "execution_count": 37,
   "id": "9ac3de8c-89d7-49d2-9953-951fa4425583",
   "metadata": {},
   "outputs": [],
   "source": [
    "# Ayush YES WE DO \n",
    "# Indexing  in numpy \n",
    "\n",
    "\n",
    "\n"
   ]
  },
  {
   "cell_type": "code",
   "execution_count": 38,
   "id": "badb4b9b-c979-4089-8b81-40e8bd852042",
   "metadata": {},
   "outputs": [],
   "source": [
    "import numpy as np"
   ]
  },
  {
   "cell_type": "code",
   "execution_count": 39,
   "id": "642b2faf-be39-4549-a771-c213c5754dfb",
   "metadata": {},
   "outputs": [
    {
     "data": {
      "text/plain": [
       "array([[ 1,  2,  3,  4,  5],\n",
       "       [ 6,  7,  8,  9, 10],\n",
       "       [11, 12, 13, 14, 15],\n",
       "       [16, 17, 18, 19, 20],\n",
       "       [21, 22, 23, 24, 25],\n",
       "       [26, 27, 28, 29, 30]])"
      ]
     },
     "execution_count": 39,
     "metadata": {},
     "output_type": "execute_result"
    }
   ],
   "source": [
    "arr = np.arange(1,31).reshape(6,5)\n",
    "arr"
   ]
  },
  {
   "cell_type": "code",
   "execution_count": 40,
   "id": "54532f81-0dcc-459c-b1e3-bd6a3524fd46",
   "metadata": {
    "collapsed": true,
    "jupyter": {
     "outputs_hidden": true
    }
   },
   "outputs": [
    {
     "data": {
      "text/plain": [
       "array([[ 4,  5],\n",
       "       [ 9, 10],\n",
       "       [14, 15],\n",
       "       [19, 20],\n",
       "       [24, 25],\n",
       "       [29, 30]])"
      ]
     },
     "execution_count": 40,
     "metadata": {},
     "output_type": "execute_result"
    }
   ],
   "source": [
    "arr[:,3:]\n"
   ]
  },
  {
   "cell_type": "code",
   "execution_count": 41,
   "id": "18a89f5d-370c-4e59-9007-535d5180e446",
   "metadata": {},
   "outputs": [
    {
     "name": "stdout",
     "output_type": "stream",
     "text": [
      "[ 6  8 10  8  8]\n",
      "[0.2        0.33333333 0.42857143 1.         1.66666667]\n",
      "[ 5 12 21 16 15]\n",
      "[-4 -4 -4  0  2]\n",
      "[1 2 3 0 2]\n",
      "[   1   64 2187  256  125]\n"
     ]
    }
   ],
   "source": [
    "b =np.array([1,2,3,4,5])\n",
    "a =np.array([5,6,7,4,3])\n",
    "print(a+b)\n",
    "print(b/a)\n",
    "print(b*a)\n",
    "print(b-a)\n",
    "print(b%a)\n",
    "print(b**a)"
   ]
  },
  {
   "cell_type": "code",
   "execution_count": 42,
   "id": "34d925db-c120-4f94-8a90-7c2b9a680a89",
   "metadata": {},
   "outputs": [],
   "source": [
    "  # Deep shallow copy"
   ]
  },
  {
   "cell_type": "code",
   "execution_count": 43,
   "id": "4cfd08f1-55ac-4c7a-a018-bbdd32a05736",
   "metadata": {},
   "outputs": [
    {
     "data": {
      "text/plain": [
       "array([ 1,  2,  3,  4,  5,  6,  7,  8,  9, 10, 11, 12, 13, 14, 15, 16, 17,\n",
       "       18, 19, 20])"
      ]
     },
     "execution_count": 43,
     "metadata": {},
     "output_type": "execute_result"
    }
   ],
   "source": [
    "a = np.arange(1,21)\n",
    "a"
   ]
  },
  {
   "cell_type": "code",
   "execution_count": null,
   "id": "42b6ab8d-127c-4448-b7bb-fa15485de267",
   "metadata": {},
   "outputs": [
    {
     "data": {
      "text/plain": [
       "array([10, 20, 30, 40, 50])"
      ]
     },
     "execution_count": 44,
     "metadata": {},
     "output_type": "execute_result"
    }
   ],
   "source": [
    "slice= a[:5]\n",
    "slice = slice * 10\n",
    "slice\n",
    "# sliceing "
   ]
  },
  {
   "cell_type": "code",
   "execution_count": 45,
   "id": "d78a5b84-8ad2-4c17-aee9-9ef700454b9b",
   "metadata": {},
   "outputs": [
    {
     "data": {
      "text/plain": [
       "array([ 1,  2,  3,  4,  5,  6,  7,  8,  9, 10, 11, 12, 13, 14, 15, 16, 17,\n",
       "       18, 19, 20])"
      ]
     },
     "execution_count": 45,
     "metadata": {},
     "output_type": "execute_result"
    }
   ],
   "source": [
    "a"
   ]
  },
  {
   "cell_type": "code",
   "execution_count": null,
   "id": "43919d47-5812-4a5a-8d1a-f7cb6a31af4a",
   "metadata": {},
   "outputs": [
    {
     "data": {
      "text/plain": [
       "array([ 3,  4,  5,  6,  7,  8,  9, 10, 11, 12, 13, 14, 15, 16, 17, 18, 19,\n",
       "       20])"
      ]
     },
     "execution_count": 46,
     "metadata": {},
     "output_type": "execute_result"
    }
   ],
   "source": [
    "a[2:]\n",
    "# indexing wise find "
   ]
  },
  {
   "cell_type": "code",
   "execution_count": 47,
   "id": "9738591d-6078-416c-8c8a-a6760119f755",
   "metadata": {},
   "outputs": [],
   "source": [
    "# tiem is 1:18"
   ]
  },
  {
   "cell_type": "code",
   "execution_count": 48,
   "id": "ad027963-25cf-4971-b205-207a4be63706",
   "metadata": {},
   "outputs": [],
   "source": [
    "arr1= np.array([1,2,4,5,6,7,3,4,5,])\n",
    "arr2 = np.array([1,2,4,5,6,7,3,4,5,])"
   ]
  },
  {
   "cell_type": "code",
   "execution_count": 49,
   "id": "7f66cfba-0738-4889-988b-452e4e37d0df",
   "metadata": {},
   "outputs": [
    {
     "data": {
      "text/plain": [
       "array([1, 2, 4, 5, 6, 7, 3, 4, 5])"
      ]
     },
     "execution_count": 49,
     "metadata": {},
     "output_type": "execute_result"
    }
   ],
   "source": [
    "arr1"
   ]
  },
  {
   "cell_type": "code",
   "execution_count": 73,
   "id": "3c7d0d3b-b0c9-47d6-8d31-b8ee0273cb3f",
   "metadata": {},
   "outputs": [
    {
     "data": {
      "text/plain": [
       "np.int64(181)"
      ]
     },
     "execution_count": 73,
     "metadata": {},
     "output_type": "execute_result"
    }
   ],
   "source": [
    "arr1 @ arr2"
   ]
  },
  {
   "cell_type": "code",
   "execution_count": 51,
   "id": "601841ab",
   "metadata": {},
   "outputs": [
    {
     "data": {
      "text/plain": [
       "np.int64(181)"
      ]
     },
     "execution_count": 51,
     "metadata": {},
     "output_type": "execute_result"
    }
   ],
   "source": [
    "np.dot(arr1,arr2)"
   ]
  },
  {
   "cell_type": "code",
   "execution_count": 52,
   "id": "42994beb",
   "metadata": {},
   "outputs": [],
   "source": [
    "prr1 = np.array([1,2,3,4])\n",
    "brr1 = np.array([5,6,7,8])"
   ]
  },
  {
   "cell_type": "code",
   "execution_count": 57,
   "id": "e0fd1ab6",
   "metadata": {},
   "outputs": [
    {
     "data": {
      "text/plain": [
       "array([[1, 2, 3, 4],\n",
       "       [5, 6, 7, 8]])"
      ]
     },
     "execution_count": 57,
     "metadata": {},
     "output_type": "execute_result"
    }
   ],
   "source": [
    "np.vstack((prr1,brr1))\n",
    "# print seprate seprate "
   ]
  },
  {
   "cell_type": "code",
   "execution_count": 56,
   "id": "e3278f11",
   "metadata": {},
   "outputs": [
    {
     "data": {
      "text/plain": [
       "array([1, 2, 3, 4, 5, 6, 7, 8])"
      ]
     },
     "execution_count": 56,
     "metadata": {},
     "output_type": "execute_result"
    }
   ],
   "source": [
    "np.hstack((prr1,brr1))\n",
    "# marge and print "
   ]
  },
  {
   "cell_type": "code",
   "execution_count": 58,
   "id": "676c532f",
   "metadata": {},
   "outputs": [
    {
     "data": {
      "text/plain": [
       "array([[1, 5],\n",
       "       [2, 6],\n",
       "       [3, 7],\n",
       "       [4, 8]])"
      ]
     },
     "execution_count": 58,
     "metadata": {},
     "output_type": "execute_result"
    }
   ],
   "source": [
    "np.column_stack((prr1,brr1))\n",
    "# print in coloum wise "
   ]
  },
  {
   "cell_type": "code",
   "execution_count": 63,
   "id": "66a03178",
   "metadata": {},
   "outputs": [
    {
     "data": {
      "text/plain": [
       "array([[ 0,  1,  2,  3],\n",
       "       [ 4,  5,  6,  7],\n",
       "       [ 8,  9, 10, 11],\n",
       "       [12, 13, 14, 15]])"
      ]
     },
     "execution_count": 63,
     "metadata": {},
     "output_type": "execute_result"
    }
   ],
   "source": [
    "c = np.arange(16).reshape(4,4)\n",
    "# creating 16 and 4 coloum array \n",
    "c"
   ]
  },
  {
   "cell_type": "markdown",
   "id": "981b3c2b",
   "metadata": {},
   "source": []
  },
  {
   "cell_type": "code",
   "execution_count": 67,
   "id": "5d292b86",
   "metadata": {},
   "outputs": [
    {
     "data": {
      "text/plain": [
       "[array([[ 0,  1],\n",
       "        [ 4,  5],\n",
       "        [ 8,  9],\n",
       "        [12, 13]]),\n",
       " array([[ 2,  3],\n",
       "        [ 6,  7],\n",
       "        [10, 11],\n",
       "        [14, 15]])]"
      ]
     },
     "execution_count": 67,
     "metadata": {},
     "output_type": "execute_result"
    }
   ],
   "source": [
    "np.hsplit(c,2)"
   ]
  },
  {
   "cell_type": "code",
   "execution_count": 70,
   "id": "98b57efc",
   "metadata": {},
   "outputs": [
    {
     "data": {
      "text/plain": [
       "[array([[0, 1, 2, 3],\n",
       "        [4, 5, 6, 7]]),\n",
       " array([[ 8,  9, 10, 11],\n",
       "        [12, 13, 14, 15]])]"
      ]
     },
     "execution_count": 70,
     "metadata": {},
     "output_type": "execute_result"
    }
   ],
   "source": [
    "np.vsplit(c,2)"
   ]
  }
 ],
 "metadata": {
  "kernelspec": {
   "display_name": "base",
   "language": "python",
   "name": "python3"
  },
  "language_info": {
   "codemirror_mode": {
    "name": "ipython",
    "version": 3
   },
   "file_extension": ".py",
   "mimetype": "text/x-python",
   "name": "python",
   "nbconvert_exporter": "python",
   "pygments_lexer": "ipython3",
   "version": "3.13.5"
  }
 },
 "nbformat": 4,
 "nbformat_minor": 5
}
