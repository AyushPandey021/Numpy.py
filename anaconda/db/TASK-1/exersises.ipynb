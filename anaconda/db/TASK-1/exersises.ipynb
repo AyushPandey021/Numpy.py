{
 "cells": [
  {
   "cell_type": "markdown",
   "id": "1ee628f3",
   "metadata": {},
   "source": [
    "1. Valid Sodoku \n"
   ]
  },
  {
   "cell_type": "code",
   "execution_count": 163,
   "id": "a0d32fc3",
   "metadata": {},
   "outputs": [],
   "source": [
    "import numpy as np "
   ]
  },
  {
   "cell_type": "code",
   "execution_count": 164,
   "id": "ee5ac2d1",
   "metadata": {},
   "outputs": [],
   "source": [
    "s = np.array([\n",
    "    [5, 3, 4, 6, 7, 8, 9, 1, 2],\n",
    "    [6, 7, 2, 1, 9, 5, 3, 4, 8],\n",
    "    [1, 9, 8, 3, 4, 2, 5, 6, 7],\n",
    "    \n",
    "    [8, 5, 9, 7, 6, 1, 4, 2, 3],\n",
    "    [4, 2, 6, 8, 5, 3, 7, 9, 1],\n",
    "    [7, 1, 3, 9, 2, 4, 8, 5, 6],\n",
    "    \n",
    "    [9, 6, 1, 5, 3, 7, 2, 8, 4],\n",
    "    [2, 8, 7, 4, 1, 9, 6, 3, 5],\n",
    "    [3, 4, 5, 2, 8, 6, 1, 7, 9]\n",
    "])"
   ]
  },
  {
   "cell_type": "code",
   "execution_count": 165,
   "id": "c7913117",
   "metadata": {},
   "outputs": [
    {
     "name": "stdout",
     "output_type": "stream",
     "text": [
      "45\n",
      "45\n",
      "45\n",
      "45\n",
      "45\n",
      "45\n",
      "45\n",
      "45\n",
      "45\n",
      "for rows it is valid\n"
     ]
    }
   ],
   "source": [
    "b= np.sum(s,axis=1)\n",
    "for i in b:\n",
    "  print(i)\n",
    "  if i !=45:\n",
    "    print(\"soduku  is not valid \")\n",
    "    break\n",
    "else:\n",
    "  print(\"for rows it is valid\")"
   ]
  },
  {
   "cell_type": "code",
   "execution_count": 166,
   "id": "32e55e35",
   "metadata": {},
   "outputs": [
    {
     "name": "stdout",
     "output_type": "stream",
     "text": [
      "45\n",
      "45\n",
      "45\n",
      "45\n",
      "45\n",
      "45\n",
      "45\n",
      "45\n",
      "45\n",
      "for coloum it is valid\n"
     ]
    }
   ],
   "source": [
    "c= np.sum(s,axis=1)\n",
    "for i in b:\n",
    "  print(i)\n",
    "  if i !=45:\n",
    "    print(\"soduku  is not valid \")\n",
    "    break\n",
    "else:\n",
    "  print(\"for coloum it is valid\")"
   ]
  },
  {
   "cell_type": "code",
   "execution_count": 167,
   "id": "5642102f",
   "metadata": {},
   "outputs": [
    {
     "data": {
      "text/plain": [
       "array([[5, 3, 4],\n",
       "       [6, 7, 2],\n",
       "       [1, 9, 8],\n",
       "       [8, 5, 9],\n",
       "       [4, 2, 6]])"
      ]
     },
     "execution_count": 167,
     "metadata": {},
     "output_type": "execute_result"
    }
   ],
   "source": [
    "s[0:5,0:3]\n",
    "\n",
    "# 0 - for row\n",
    "# 5 and 3 for coloum  "
   ]
  },
  {
   "cell_type": "code",
   "execution_count": 168,
   "id": "5b2c6492",
   "metadata": {},
   "outputs": [
    {
     "name": "stdout",
     "output_type": "stream",
     "text": [
      "67\n",
      "59\n",
      "54\n",
      "22\n",
      "14\n",
      "9\n",
      "0\n",
      "0\n",
      "0\n"
     ]
    }
   ],
   "source": [
    "for i in range(0,9,3):\n",
    "    for j in range(0,9,3):\n",
    "        n = s[i:1+3,j:j+3]\n",
    "        print(n.sum())"
   ]
  },
  {
   "cell_type": "code",
   "execution_count": null,
   "id": "45539d96",
   "metadata": {},
   "outputs": [],
   "source": []
  },
  {
   "cell_type": "markdown",
   "id": "30d53718",
   "metadata": {},
   "source": [
    "General Question\n"
   ]
  },
  {
   "cell_type": "code",
   "execution_count": 169,
   "id": "1c54a2e8",
   "metadata": {},
   "outputs": [],
   "source": [
    "import numpy as np\n",
    "\n",
    "# Columns: [Age, Math Marks, Science Marks]\n",
    "data = np.array([\n",
    "    [18, 85, 78],   # Student 1\n",
    "    [19, 92, 88],   # Student 2\n",
    "    [17, 76, 95],   # Student 3\n",
    "    [18, 65, 70],   # Student 4\n",
    "    [20, 90, 85]    # Student 5\n",
    "])"
   ]
  },
  {
   "cell_type": "code",
   "execution_count": 170,
   "id": "11431849",
   "metadata": {},
   "outputs": [
    {
     "data": {
      "text/plain": [
       "(5, 3)"
      ]
     },
     "execution_count": 170,
     "metadata": {},
     "output_type": "execute_result"
    }
   ],
   "source": [
    "# find the shape of the matrix\n",
    "data.shape\n",
    "# shape mean give you data to coloum and row in data \n",
    "# (5,3) 5 for rows and 3 is coloum "
   ]
  },
  {
   "cell_type": "code",
   "execution_count": 171,
   "id": "29c19a7c",
   "metadata": {},
   "outputs": [
    {
     "data": {
      "text/plain": [
       "np.float64(18.4)"
      ]
     },
     "execution_count": 171,
     "metadata": {},
     "output_type": "execute_result"
    }
   ],
   "source": [
    "# find the avarage age of the student \n",
    "\n",
    "np.mean(data[:,0])\n"
   ]
  },
  {
   "cell_type": "code",
   "execution_count": 172,
   "id": "8093d93a",
   "metadata": {},
   "outputs": [
    {
     "data": {
      "text/plain": [
       "array([85, 92, 76, 65, 90])"
      ]
     },
     "execution_count": 172,
     "metadata": {},
     "output_type": "execute_result"
    }
   ],
   "source": [
    "# Exteact math marks of all students\n",
    "data[:,1]"
   ]
  },
  {
   "cell_type": "code",
   "execution_count": 173,
   "id": "b175c3a1",
   "metadata": {},
   "outputs": [
    {
     "data": {
      "text/plain": [
       "np.int64(70)"
      ]
     },
     "execution_count": 173,
     "metadata": {},
     "output_type": "execute_result"
    }
   ],
   "source": [
    "# find the highest science marks \n",
    "np.min(data[:,2])"
   ]
  },
  {
   "cell_type": "code",
   "execution_count": 174,
   "id": "a50192a9",
   "metadata": {},
   "outputs": [
    {
     "data": {
      "text/plain": [
       "array([[19, 92, 88]])"
      ]
     },
     "execution_count": 174,
     "metadata": {},
     "output_type": "execute_result"
    }
   ],
   "source": [
    "# get details of the student who scored more then 90 in math\n",
    "\n",
    "data[data[:,1 # in row 1st\n",
    "]>90]"
   ]
  },
  {
   "cell_type": "code",
   "execution_count": 175,
   "id": "c7cd2b9c",
   "metadata": {},
   "outputs": [
    {
     "data": {
      "text/plain": [
       "array([[18, 90, 78],\n",
       "       [19, 97, 88],\n",
       "       [17, 81, 95],\n",
       "       [18, 70, 70],\n",
       "       [20, 95, 85]])"
      ]
     },
     "execution_count": 175,
     "metadata": {},
     "output_type": "execute_result"
    }
   ],
   "source": [
    "#increse math marks of all student by 5.\n",
    "data[:,1] += 5\n",
    "data"
   ]
  },
  {
   "cell_type": "code",
   "execution_count": 176,
   "id": "299ad462",
   "metadata": {},
   "outputs": [
    {
     "data": {
      "text/plain": [
       "3"
      ]
     },
     "execution_count": 176,
     "metadata": {},
     "output_type": "execute_result"
    }
   ],
   "source": [
    "#find how many student age younger than 19\n",
    "len(data[data[:,0]<19])\n"
   ]
  },
  {
   "cell_type": "code",
   "execution_count": 177,
   "id": "64e5ecf4",
   "metadata": {},
   "outputs": [
    {
     "data": {
      "text/plain": [
       "array([86.6, 83.2])"
      ]
     },
     "execution_count": 177,
     "metadata": {},
     "output_type": "execute_result"
    }
   ],
   "source": [
    "#calculate the avarageg marks in each subject (coloum-wise mean )\n",
    "np.mean(data[:,1:],axis=0)"
   ]
  },
  {
   "cell_type": "code",
   "execution_count": 178,
   "id": "691fd8d3",
   "metadata": {},
   "outputs": [
    {
     "data": {
      "text/plain": [
       "array([[19, 97, 88],\n",
       "       [17, 81, 95],\n",
       "       [20, 95, 85]])"
      ]
     },
     "execution_count": 178,
     "metadata": {},
     "output_type": "execute_result"
    }
   ],
   "source": [
    "#get data of student who scored at least 80 in both subjects.\n",
    "data[(data[:,1]>=80) & (data[:,2]>=80)]"
   ]
  },
  {
   "cell_type": "code",
   "execution_count": 179,
   "id": "004bbcf4",
   "metadata": {},
   "outputs": [
    {
     "data": {
      "text/plain": [
       "array([[18, 90, 78],\n",
       "       [19, 97, 88],\n",
       "       [17, 81, 95],\n",
       "       [18, 70,  0],\n",
       "       [20, 95, 85]])"
      ]
     },
     "execution_count": 179,
     "metadata": {},
     "output_type": "execute_result"
    }
   ],
   "source": [
    "#replace all sciece marks < 75 with 0.\n",
    "data[:,2][data[:,2]< 75 ]= 0 \n",
    "data"
   ]
  },
  {
   "cell_type": "markdown",
   "id": "a956614e",
   "metadata": {},
   "source": [
    "Complete the Exercies"
   ]
  },
  {
   "cell_type": "code",
   "execution_count": null,
   "id": "5ef257b8",
   "metadata": {},
   "outputs": [],
   "source": []
  },
  {
   "cell_type": "code",
   "execution_count": null,
   "id": "ac81ffae",
   "metadata": {},
   "outputs": [],
   "source": []
  }
 ],
 "metadata": {
  "kernelspec": {
   "display_name": "base",
   "language": "python",
   "name": "python3"
  },
  "language_info": {
   "codemirror_mode": {
    "name": "ipython",
    "version": 3
   },
   "file_extension": ".py",
   "mimetype": "text/x-python",
   "name": "python",
   "nbconvert_exporter": "python",
   "pygments_lexer": "ipython3",
   "version": "3.13.5"
  }
 },
 "nbformat": 4,
 "nbformat_minor": 5
}
