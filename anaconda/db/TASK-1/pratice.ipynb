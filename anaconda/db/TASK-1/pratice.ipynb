{
 "cells": [
  {
   "cell_type": "markdown",
   "id": "de3260a5",
   "metadata": {},
   "source": [
    "prac\n"
   ]
  },
  {
   "cell_type": "code",
   "execution_count": 591,
   "id": "462e7e75",
   "metadata": {},
   "outputs": [],
   "source": [
    "import numpy as np"
   ]
  },
  {
   "cell_type": "code",
   "execution_count": 592,
   "id": "7e05c76e",
   "metadata": {},
   "outputs": [
    {
     "data": {
      "text/plain": [
       "array([1, 2, 3, 4, 5])"
      ]
     },
     "execution_count": 592,
     "metadata": {},
     "output_type": "execute_result"
    }
   ],
   "source": [
    "arr = np.array([1,2,3,4,5])\n",
    "arr"
   ]
  },
  {
   "cell_type": "code",
   "execution_count": 593,
   "id": "0253bf20",
   "metadata": {},
   "outputs": [
    {
     "data": {
      "text/plain": [
       "array([[ 1,  2,  3,  4],\n",
       "       [ 2,  3,  5,  6],\n",
       "       [55, 53, 53, 12]])"
      ]
     },
     "execution_count": 593,
     "metadata": {},
     "output_type": "execute_result"
    }
   ],
   "source": [
    "arr = np.array([[1,2,3,4],[2,3,5,6],[55,53,53,12\n",
    "]])\n",
    "arr"
   ]
  },
  {
   "cell_type": "code",
   "execution_count": 594,
   "id": "1ef691da",
   "metadata": {},
   "outputs": [
    {
     "data": {
      "text/plain": [
       "array([[[0., 0., 0.],\n",
       "        [0., 0., 0.]]])"
      ]
     },
     "execution_count": 594,
     "metadata": {},
     "output_type": "execute_result"
    }
   ],
   "source": [
    "np.zeros((1,2,3))"
   ]
  },
  {
   "cell_type": "code",
   "execution_count": 595,
   "id": "c26f79e6",
   "metadata": {},
   "outputs": [
    {
     "data": {
      "text/plain": [
       "array([[1., 0., 0.],\n",
       "       [0., 1., 0.],\n",
       "       [0., 0., 1.]])"
      ]
     },
     "execution_count": 595,
     "metadata": {},
     "output_type": "execute_result"
    }
   ],
   "source": [
    "np.eye(3)"
   ]
  },
  {
   "cell_type": "code",
   "execution_count": 596,
   "id": "14f0ec65",
   "metadata": {},
   "outputs": [
    {
     "data": {
      "text/plain": [
       "array([1, 3, 5, 7, 9])"
      ]
     },
     "execution_count": 596,
     "metadata": {},
     "output_type": "execute_result"
    }
   ],
   "source": [
    "np.arange(1,10,2)"
   ]
  },
  {
   "cell_type": "code",
   "execution_count": 597,
   "id": "7aa25000",
   "metadata": {},
   "outputs": [
    {
     "data": {
      "text/plain": [
       "array([0., 1.])"
      ]
     },
     "execution_count": 597,
     "metadata": {},
     "output_type": "execute_result"
    }
   ],
   "source": [
    "np.linspace(0,1,2)"
   ]
  },
  {
   "cell_type": "code",
   "execution_count": 598,
   "id": "162b398e",
   "metadata": {},
   "outputs": [
    {
     "ename": "TypeError",
     "evalue": "'numpy.ndarray' object is not callable",
     "output_type": "error",
     "traceback": [
      "\u001b[31m---------------------------------------------------------------------------\u001b[39m",
      "\u001b[31mTypeError\u001b[39m                                 Traceback (most recent call last)",
      "\u001b[36mCell\u001b[39m\u001b[36m \u001b[39m\u001b[32mIn[598]\u001b[39m\u001b[32m, line 3\u001b[39m\n\u001b[32m      1\u001b[39m arr= np.array([\u001b[32m6\u001b[39m,\u001b[32m7\u001b[39m,\u001b[32m8\u001b[39m,\u001b[32m9\u001b[39m])\n\u001b[32m      2\u001b[39m brr= np.array([\u001b[32m6\u001b[39m,\u001b[32m7\u001b[39m,\u001b[32m8\u001b[39m,\u001b[32m9\u001b[39m])\n\u001b[32m----> \u001b[39m\u001b[32m3\u001b[39m \u001b[38;5;28;43mprint\u001b[39;49m\u001b[43m(\u001b[49m\u001b[43marr\u001b[49m\u001b[43m+\u001b[49m\u001b[43mbrr\u001b[49m\u001b[43m)\u001b[49m\n\u001b[32m      4\u001b[39m \u001b[38;5;28mprint\u001b[39m(arr*brr)\n\u001b[32m      5\u001b[39m \u001b[38;5;28mprint\u001b[39m(arr/brr)\n",
      "\u001b[31mTypeError\u001b[39m: 'numpy.ndarray' object is not callable"
     ]
    }
   ],
   "source": [
    "arr= np.array([6,7,8,9])\n",
    "brr= np.array([6,7,8,9])\n",
    "print(arr+brr)\n",
    "print(arr*brr)\n",
    "print(arr/brr)"
   ]
  },
  {
   "cell_type": "code",
   "execution_count": null,
   "id": "eee3ac5f",
   "metadata": {},
   "outputs": [
    {
     "name": "stdout",
     "output_type": "stream",
     "text": [
      "(2, 3)\n",
      "[[1 2]\n",
      " [3 4]\n",
      " [5 6]]\n"
     ]
    }
   ],
   "source": [
    "arr = np.array([[1,2,3],[4,5,6]])\n",
    "print(arr.shape)\n",
    "\n",
    "# means 2 rows 3 coloum \n",
    "print(arr.reshape(3,2))"
   ]
  },
  {
   "cell_type": "code",
   "execution_count": null,
   "id": "e03d7bdb",
   "metadata": {},
   "outputs": [
    {
     "name": "stdout",
     "output_type": "stream",
     "text": [
      "[30 40]\n"
     ]
    }
   ],
   "source": [
    "arr= np.array([10,20,30,40,50])\n",
    "print(arr[2:4])\n",
    "# indexing  & slicing "
   ]
  },
  {
   "cell_type": "code",
   "execution_count": null,
   "id": "f7e325f5",
   "metadata": {},
   "outputs": [
    {
     "name": "stdout",
     "output_type": "stream",
     "text": [
      "4\n"
     ]
    }
   ],
   "source": [
    "arr1 = np.array([[1,2],[3,4],[5,6]])\n",
    "print(arr1[1,1])"
   ]
  },
  {
   "cell_type": "code",
   "execution_count": null,
   "id": "8f0be73b",
   "metadata": {},
   "outputs": [
    {
     "name": "stdout",
     "output_type": "stream",
     "text": [
      "[3 4 5 6 8 9]\n"
     ]
    }
   ],
   "source": [
    "arr = np.array([1,3,4,5,6,8,9])\n",
    "print(arr[arr >= 3])\n",
    "# is called conditional filtering "
   ]
  },
  {
   "cell_type": "code",
   "execution_count": null,
   "id": "f8d3c9b7",
   "metadata": {},
   "outputs": [
    {
     "name": "stdout",
     "output_type": "stream",
     "text": [
      "18\n",
      "1.8547236990991407\n",
      "3.6\n",
      "6\n",
      "1\n"
     ]
    }
   ],
   "source": [
    "#usefull mathods\n",
    "arr = np.array([1,2,4,5,6])\n",
    "print(np.sum(arr))#15\n",
    "print(np.std(arr)) # 3.0\n",
    "print(np.mean(arr)) #std for standerd deviation\n",
    "print(np.max(arr))#5\n",
    "print(np.min(arr))#1\n",
    "\n"
   ]
  },
  {
   "cell_type": "code",
   "execution_count": null,
   "id": "41e1fca3",
   "metadata": {},
   "outputs": [],
   "source": [
    "a = np.array([1,2,3,5])\n",
    "b = np.array([4,5,6,7])"
   ]
  },
  {
   "cell_type": "code",
   "execution_count": null,
   "id": "9b3417b9",
   "metadata": {},
   "outputs": [
    {
     "name": "stdout",
     "output_type": "stream",
     "text": [
      "[ 5  7  9 12]\n",
      "[-3 -3 -3 -2]\n",
      "[ 4 10 18 35]\n"
     ]
    }
   ],
   "source": [
    "print(a+b)\n",
    "print(a-b)\n",
    "print(a*b)"
   ]
  },
  {
   "cell_type": "code",
   "execution_count": null,
   "id": "ea2fa39e",
   "metadata": {},
   "outputs": [
    {
     "name": "stdout",
     "output_type": "stream",
     "text": [
      "[[16  1]\n",
      " [19 10]]\n"
     ]
    }
   ],
   "source": [
    "random = np.random.randint(1,30,(2,2))\n",
    "#i to 30 range gives random numbers \n",
    "print(random)"
   ]
  },
  {
   "cell_type": "code",
   "execution_count": null,
   "id": "75452e29",
   "metadata": {},
   "outputs": [
    {
     "data": {
      "text/plain": [
       "array([16, 19, 10], dtype=int32)"
      ]
     },
     "execution_count": 327,
     "metadata": {},
     "output_type": "execute_result"
    }
   ],
   "source": [
    "random[random>3]"
   ]
  },
  {
   "cell_type": "code",
   "execution_count": null,
   "id": "26bab83a",
   "metadata": {},
   "outputs": [
    {
     "data": {
      "text/plain": [
       "array([[42,  6],\n",
       "       [63,  9]])"
      ]
     },
     "execution_count": 328,
     "metadata": {},
     "output_type": "execute_result"
    }
   ],
   "source": [
    "a1 = np.array([[2,4],[3,6]])\n",
    "a2 = np.array([[5,1],[8,1]])\n",
    "# result = np.dot(a1,a2)\n",
    "result = a1 @ a2\n",
    "result\n",
    "# print(result)\n",
    "# .dot and @  and matmul use for multiplication  in matrix \n"
   ]
  },
  {
   "cell_type": "code",
   "execution_count": null,
   "id": "947371b2",
   "metadata": {},
   "outputs": [
    {
     "data": {
      "text/plain": [
       "array([[31, 36],\n",
       "       [33, 38]])"
      ]
     },
     "execution_count": 360,
     "metadata": {},
     "output_type": "execute_result"
    }
   ],
   "source": [
    "result"
   ]
  },
  {
   "cell_type": "code",
   "execution_count": null,
   "id": "8c039751",
   "metadata": {},
   "outputs": [
    {
     "ename": "TypeError",
     "evalue": "'tuple' object is not callable",
     "output_type": "error",
     "traceback": [
      "\u001b[31m---------------------------------------------------------------------------\u001b[39m",
      "\u001b[31mTypeError\u001b[39m                                 Traceback (most recent call last)",
      "\u001b[36mCell\u001b[39m\u001b[36m \u001b[39m\u001b[32mIn[342]\u001b[39m\u001b[32m, line 4\u001b[39m\n\u001b[32m      2\u001b[39m b = np.ones((\u001b[32m2\u001b[39m,\u001b[32m3\u001b[39m,\u001b[32m4\u001b[39m))\n\u001b[32m      3\u001b[39m \u001b[38;5;28mprint\u001b[39m =(np.matmul(a,b).shape)\n\u001b[32m----> \u001b[39m\u001b[32m4\u001b[39m \u001b[38;5;28;43mprint\u001b[39;49m\u001b[43m(\u001b[49m\u001b[43mnp\u001b[49m\u001b[43m)\u001b[49m\n",
      "\u001b[31mTypeError\u001b[39m: 'tuple' object is not callable"
     ]
    }
   ],
   "source": [
    "a = np.ones((2,1,3))\n",
    "b = np.ones((2,3,4))\n",
    "print =(np.matmul(a,b).shape)\n",
    "\n"
   ]
  },
  {
   "cell_type": "markdown",
   "id": "278ce905",
   "metadata": {},
   "source": [
    "pratice markdown\n"
   ]
  },
  {
   "cell_type": "code",
   "execution_count": null,
   "id": "1cd14dd4",
   "metadata": {},
   "outputs": [
    {
     "data": {
      "text/plain": [
       "array([[24, 30],\n",
       "       [19, 14]])"
      ]
     },
     "execution_count": 389,
     "metadata": {},
     "output_type": "execute_result"
    }
   ],
   "source": [
    "A = np.array([[4,3],[1,4]])\n",
    "B = np.array(([3,6],[4,2])) \n",
    "# ap = (A@B) # frist mathod \n",
    "# np.matmul(A,B) # second mathod \n",
    "np.dot(A,B) #third Mathod\n",
    "# ap"
   ]
  },
  {
   "cell_type": "code",
   "execution_count": null,
   "id": "ba6706b5",
   "metadata": {},
   "outputs": [
    {
     "data": {
      "text/plain": [
       "array([[ 58,  64],\n",
       "       [139, 154]])"
      ]
     },
     "execution_count": 390,
     "metadata": {},
     "output_type": "execute_result"
    }
   ],
   "source": [
    "A = np.array([[1, 2, 3],\n",
    "              [4, 5, 6]])\n",
    "\n",
    "B = np.array([[7, 8],\n",
    "              [9, 10],\n",
    "              [11, 12]])\n",
    "np.dot(A,B) #third Mathod\n"
   ]
  },
  {
   "cell_type": "code",
   "execution_count": null,
   "id": "4290274f",
   "metadata": {},
   "outputs": [
    {
     "data": {
      "text/plain": [
       "array([[10, 20],\n",
       "       [30, 40]])"
      ]
     },
     "execution_count": 391,
     "metadata": {},
     "output_type": "execute_result"
    }
   ],
   "source": [
    "A = np.array([[10, 20],\n",
    "              [30, 40]])\n",
    "A"
   ]
  },
  {
   "cell_type": "code",
   "execution_count": 599,
   "id": "0c9cc5d3",
   "metadata": {},
   "outputs": [
    {
     "data": {
      "text/plain": [
       "array([[ 27,  30,  33],\n",
       "       [ 61,  68,  75],\n",
       "       [ 95, 106, 117]])"
      ]
     },
     "execution_count": 599,
     "metadata": {},
     "output_type": "execute_result"
    }
   ],
   "source": [
    "P = np.array([[1,2],\n",
    "              [3,4],\n",
    "              [5,6]])\n",
    "B= np.array([[7,8,9],\n",
    "             [10,11,12]])\n",
    "result = (P@B)\n",
    "result\n"
   ]
  },
  {
   "cell_type": "code",
   "execution_count": null,
   "id": "adc3da30",
   "metadata": {},
   "outputs": [],
   "source": []
  },
  {
   "cell_type": "code",
   "execution_count": null,
   "id": "18facbad",
   "metadata": {},
   "outputs": [],
   "source": []
  },
  {
   "cell_type": "code",
   "execution_count": null,
   "id": "24d9625e",
   "metadata": {},
   "outputs": [],
   "source": []
  }
 ],
 "metadata": {
  "kernelspec": {
   "display_name": "base",
   "language": "python",
   "name": "python3"
  },
  "language_info": {
   "codemirror_mode": {
    "name": "ipython",
    "version": 3
   },
   "file_extension": ".py",
   "mimetype": "text/x-python",
   "name": "python",
   "nbconvert_exporter": "python",
   "pygments_lexer": "ipython3",
   "version": "3.13.5"
  }
 },
 "nbformat": 4,
 "nbformat_minor": 5
}
