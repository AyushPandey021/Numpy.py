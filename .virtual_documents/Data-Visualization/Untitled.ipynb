import numpy as np 
import pandas as pd 
import matplotlib.pyplot as plt


x = np.linspace(0,5,11)
x 
y = x ** 2
y


plt.plot()



















































