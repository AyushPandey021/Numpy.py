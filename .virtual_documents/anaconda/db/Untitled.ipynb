Ayush YES WE DO 
Indexing  in numpy 






import numpy = as np






