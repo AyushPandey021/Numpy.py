Ayush YES WE DO 
Indexing  in numpy 






import numpy as np



arr = np.arange(11,21)
arr









